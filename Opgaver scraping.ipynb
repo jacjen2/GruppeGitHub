{
 "cells": [
  {
   "cell_type": "code",
   "execution_count": 2,
   "metadata": {
    "collapsed": true
   },
   "outputs": [],
   "source": [
    "import matplotlib.pyplot as plt\n",
    "import pandas as pd\n",
    "import seaborn as sns\n",
    "import requests\n",
    "import xmltodict\n",
    "from bs4 import BeautifulSoup\n",
    "import re\n",
    "import time\n",
    "\n",
    "sns.set()\n",
    "\n",
    "%matplotlib inline"
   ]
  },
  {
   "cell_type": "code",
   "execution_count": 3,
   "metadata": {},
   "outputs": [
    {
     "name": "stdout",
     "output_type": "stream",
     "text": [
      "http://www.folketingsvalg-2015.dk/parti/alternativet\n",
      "http://www.folketingsvalg-2015.dk/parti/venstre\n",
      "http://www.folketingsvalg-2015.dk/parti/socialdemokraterne\n",
      "http://www.folketingsvalg-2015.dk/parti/dansk-folkeparti\n",
      "http://www.folketingsvalg-2015.dk/parti/radikale-venstre\n",
      "http://www.folketingsvalg-2015.dk/parti/socialistisk-folkeparti\n",
      "http://www.folketingsvalg-2015.dk/parti/enhedslisten\n",
      "http://www.folketingsvalg-2015.dk/parti/liberal-alliance\n",
      "http://www.folketingsvalg-2015.dk/parti/det-konservative-folkeparti\n",
      "http://www.folketingsvalg-2015.dk/parti/kristendemokraterne\n",
      "http://www.folketingsvalg-2015.dk/parti/uden-for-folketingsgrupperne\n"
     ]
    },
    {
     "data": {
      "text/plain": [
       "list"
      ]
     },
     "execution_count": 3,
     "metadata": {},
     "output_type": "execute_result"
    }
   ],
   "source": [
    "url = 'http://www.folketingsvalg-2015.dk'\n",
    "data = requests.get(url).text\n",
    "\n",
    "data = BeautifulSoup(data, \"lxml\")\n",
    "\n",
    "Partier = data('h3')[0]\n",
    "\n",
    "for node in Partier.find_next_siblings('p'):\n",
    "    link = url+node.a['href']\n",
    "    print(link)\n",
    "    \n",
    "list_partier = []\n",
    "list_partier = [link]\n",
    "\n",
    "type(list_partier)\n"
   ]
  },
  {
   "cell_type": "code",
   "execution_count": 4,
   "metadata": {},
   "outputs": [
    {
     "data": {
      "text/plain": [
       "'https://www.facebook.com/anne.thomas.73113'"
      ]
     },
     "execution_count": 4,
     "metadata": {},
     "output_type": "execute_result"
    }
   ],
   "source": [
    "personlig = requests.get('http://www.folketingsvalg-2015.dk/anne-thomas').text\n",
    "personlig = BeautifulSoup(personlig, \"lxml\")\n",
    "\n",
    "#personlig = personlig.findAll('a')[4:5]\n",
    "personlig = personlig.findAll('a', attrs={'href': re.compile(\"^https://www.facebook\")})\n",
    "\n",
    "for link in personlig:\n",
    "    data_4 = link.get(\"href\")\n",
    "    \n",
    "data_4\n"
   ]
  },
  {
   "cell_type": "code",
   "execution_count": 5,
   "metadata": {},
   "outputs": [
    {
     "name": "stdout",
     "output_type": "stream",
     "text": [
      "https://www.facebook.com/anne.thomas.73113\n"
     ]
    }
   ],
   "source": [
    "#Liste med links fra partiside\n",
    "\n",
    "kandidater_links = []\n",
    "kandidater_side = []\n",
    "\n",
    "for link in list_partier[0:1]:\n",
    "    partiside = requests.get(link).text\n",
    "    kandidater = BeautifulSoup(partiside,'lxml')\n",
    "    kandidater = kandidater(\"h3\")[0]\n",
    "    for node in kandidater.find_next_siblings('p'):\n",
    "        kandidater_links.append(link + node.a['href'])\n",
    "        \n",
    "        for node2 in kandidater_links:\n",
    "            personlig = requests.get(node2).text\n",
    "            personlig = BeautifulSoup(personlig, \"lxml\")\n",
    "\n",
    "            #personlig = personlig.findAll('a')[4:5]\n",
    "            personlig = personlig.findAll('a', attrs={'href': re.compile(\"^https://www.facebook\")})\n",
    "            \n",
    "            time.sleep(0.1)\n",
    "\n",
    "#             for link in personlig:\n",
    "#                 data_4 = link.get(\"href\")\n",
    "    \n",
    "#                 print(data_4)\n",
    "# #         for i in kandidater_links:\n",
    "# #             personlig_side = request.get(kandidater_links[i]).text\n",
    "\n",
    "# #             kandidater = BeautifulSoup(partiside,'lxml')\n",
    "# #             personlig_side = personlig_side[0]\n",
    "#                 time.sleep(0.1)\n",
    "    \n",
    "print(data_4)"
   ]
  },
  {
   "cell_type": "code",
   "execution_count": 6,
   "metadata": {},
   "outputs": [
    {
     "name": "stdout",
     "output_type": "stream",
     "text": [
      "/asif-ahmad\n",
      "/christian-olesen\n",
      "/jan-elkjaer\n",
      "/john-erik-wagner\n",
      "/kashif-ahmad\n",
      "/tom-gillesberg\n",
      "/hans-schultz\n",
      "/aleks-jensen\n",
      "/gert-lassen\n",
      "/aamer-ahmad\n",
      "/bent-a-jespersen\n",
      "/michael-christiansen\n",
      "/erik-sputnik\n",
      "/peter-ymer-nielsen\n",
      "/poul-gundersen\n",
      "/yahya-hassan\n"
     ]
    }
   ],
   "source": [
    "enkeltpartier = list_partier[0]\n",
    "enkeltpartier\n",
    "\n",
    "url2 = enkeltpartier\n",
    "data2 = requests.get(url2).text\n",
    "\n",
    "data2 = BeautifulSoup(data2, \"lxml\")\n",
    "\n",
    "Personer = data2('h3')[0]\n",
    "for node in Personer.find_next_siblings('p'):\n",
    "    person = node.a['href']\n",
    "    print(person)\n",
    "\n",
    "\n",
    "\n",
    "\n",
    "# url = 'http://www.folketingsvalg-2015.dk'\n",
    "# data = requests.get(url).text\n",
    "\n",
    "# data = BeautifulSoup(data)\n",
    "\n",
    "# Partier = data('h3')[0]\n",
    "# for node in Partier.find_next_siblings('p'):\n",
    "#     link = url+node.a['href']\n",
    "#     print(link)\n",
    "    \n",
    "    \n",
    "    \n",
    "    \n"
   ]
  },
  {
   "cell_type": "code",
   "execution_count": null,
   "metadata": {
    "collapsed": true
   },
   "outputs": [],
   "source": []
  }
 ],
 "metadata": {
  "kernelspec": {
   "display_name": "Python 3",
   "language": "python",
   "name": "python3"
  },
  "language_info": {
   "codemirror_mode": {
    "name": "ipython",
    "version": 3
   },
   "file_extension": ".py",
   "mimetype": "text/x-python",
   "name": "python",
   "nbconvert_exporter": "python",
   "pygments_lexer": "ipython3",
   "version": "3.6.1"
  }
 },
 "nbformat": 4,
 "nbformat_minor": 2
}
